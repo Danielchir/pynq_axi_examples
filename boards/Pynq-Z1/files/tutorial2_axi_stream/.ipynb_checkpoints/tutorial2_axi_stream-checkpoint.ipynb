{
 "cells": [
  {
   "cell_type": "markdown",
   "metadata": {},
   "source": [
    "# Creating a Design with Streams\n",
    "\n",
    "This tutorial is the second in a series of three tutorials for Pynq, with the aim of comparing different HLS interfaces and the way they are used in Python.\n",
    "\n",
    "* <font color='red'> Tutorial 1 link </font>\n",
    "* <font color='red'> Tutorial 3 link </font>\n",
    "\n",
    "### Goal\n",
    "This tutorial follows the same steps as the previous tutorial, except using stream interfaces for the text input/output, rather than slave interfaces. Throughout the tutorial, some key differences between these will be highlighted.  \n",
    "\n",
    "AXI Stream is a protocol used to provide a steady flow of high speed data. Unlike with AXILite, there is no addressing involved here, as data is transfered directly from peer to peer."
   ]
  },
  {
   "cell_type": "markdown",
   "metadata": {},
   "source": [
    "## High Level Synthesis\n",
    "\n",
    "Because the code will need to change as we switch to stream interfaces, it will be easier to work in a new project. \n",
    "Open Vivado HLS and create a new project; add the aes_stream.cpp source file, with _aes_ as the Top Function, as well as the testbench file, aes_stream_test.cpp. Select the part _xc7z020clg400-1_.\n",
    "\n",
    "![HLS Project Creation](./images_2/hls_prj.gif)\n",
    "\n",
    "### Changes in Code\n",
    "\n",
    "There are a few ways to write code to handle streams in HLS. Xilinx provides a stream class in HLS which can be used for designs written in C++, but you can also write streams yourself quite easily, as is done here. All we need for the tools to recognise a stream, is a `struct` which includes 3 signals: data, last, and user. These signals will be explained further in the next section.\n",
    "\n",
    "```C\n",
    "typedef struct{\n",
    "\tuint8_t data[16];\n",
    "\tap_uint<1> user;\t\t\n",
    "\tap_uint<1> last; \t    \n",
    "} stream_type;\n",
    "```\n",
    "\n",
    "The top level function is the only one which needs to change here, compared to when we were using axilite interfaces.\n",
    "\n",
    "* the function definition, of course, must change to use the two streams  \n",
    "```C\n",
    "void aes(ap_uint<128> key, stream_type* in_stream, stream_type* out_stream)\n",
    "```\n",
    "* the streams `in_stream` and `out_stream` can only be accessed once, meaning we cannot read or write each part of the `struct` individually. To limit the need to do this, we create buffer streams  \n",
    "```C\n",
    "stream_type input, output;\n",
    "input = *in_stream;\n",
    "output = input;\n",
    "```\n",
    "\n",
    "By copying `in_stream` into `input`, we are not only copying the data, but also the last and user signals. This ensures that these signals will also be set correctly in the output stream. \n",
    "* The rest of the code is identical to that in the other tutorial, except we pass only `input.data` and `output.data` to the read and write functions.\n",
    "\n",
    "<!-- changes in testbench! -->\n",
    "\n",
    "### Interface directives\n",
    "\n",
    "As with the previous version of this IP, the key will be transferred using the simple AXILite interface. Because this is a simple scalar, and only needs to be sent at the start, there is no need to complicate this. Changing the interface type of the input and output, however, will allows the IP to receive more data, faster. Double click on the `in_stream` variable in the directives panel. In the _mode_ drop-down menu, select _axis_ - this creates a stream interface. With this option, the struct we created will be interpreted by HLS as part of the AXI stream protocol. There are more signals in this protocol, but TLAST and TUSER are the only ones which need to be set manually, the rest will be included automatically during synthesis. Create an AXI stream interface for `out_stream` in the same way.\n",
    "\n",
    "<!-- return type, make sure it passes co-sim -->\n",
    "\n",
    "<!-- depth?? if needed, specify that it's only for cosim! -->\n",
    "\n",
    "### Simulation and Synthesis\n",
    "Run the C Simulation to verify the result. Note that the order of the test patterns was changed; this is to account for a change in the way the arrays used in the Jupyter Notebook will be translated into hardware. As with the previous version of this example, we are aiming to obtain the correct result at the Notebook level, which requires some changes in the endianness in hardware.\n",
    "\n",
    "Run Synthesis; as the _INFO_ statements appear in the console window, you can see all the directives which are being automatically applied to reach II=1. When the synthesis report opens, scroll down to the interface summary. Here you can see the port which are being added. For each stream, we have:  \n",
    "* data: contains the data in blocks of 128 bits (equivalent to our array of 16 bytes). \n",
    "* last: this signal indicates the last 128 bit block being sent. It is set to 1 when the last block is being sent, and 0 otherwise.\n",
    "* ready: this signal goes high whenever the IP is ready to take in more data. As we have an initiation interval (ii) of 1 in this case, ready should stay high for the duration of the transaction. If we had ii=2, it would toggle between 0 and 1 on every cycle.\n",
    "* valid: this signal goes high every time the data associated with it is valid. This avoids intermediate data being falsely interpreted.\n",
    "* user can be used for a user defined part of the protocol, but will not be used here.\n",
    "\n",
    "This mechanism can be seen clearly in this example from the [AXI User Guide](https://www.xilinx.com/support/documentation/ip_documentation/ug761_axi_reference_guide.pdf#page=63&zoom=100,0,397):\n",
    "\n",
    "![Stream handshake](./images/stream.png)\n"
   ]
  },
  {
   "cell_type": "markdown",
   "metadata": {},
   "source": [
    "## Block Design in Vivado  \n",
    "\n",
    "As before, create a new Vivado project, selecting _RTL Project_ without specifying sources, and targeting the PYNQ-Z2. \n",
    "\n",
    "* Create a new block design and add the _ZYNQ7 Processing System_\n",
    "* Run block automation\n",
    "* In Settings, go to IP > Repository, and add the IP you exported. \n",
    "* Add the Aes IP to the Block design\n",
    "\n",
    "To connect the input and output stream, we need an [_AXI Direct Memory Access_](https://pynq.readthedocs.io/en/v2.4/pynq_libraries/dma.html), which will handle all the signals associated with the streams and requested data from the PS when necessary. \n",
    "\n",
    "* Add the AXI Direct Memory Access IP to the block design\n",
    "* double click on the DMA to re-customize the IP\n",
    "    * Disable the _Scatter Gather Engine_\n",
    "    * Increase the _Width of buffer length register_ to 26\n",
    "    * Change the _Memory Map Data Width_ and _Stream Data Width_ to 128 for the Read Channel\n",
    "    * Set the _Max Burst Size_ to 16\n",
    "\n",
    "* Double click on the PS to open the Re-customization dialogue\n",
    "* Under _PS-PL Configuration_, expand _HP Slave AXI Interface_ and tick _S AXI P0 interface_\n",
    "* Click Run Connection Automation. This should add an AXI Interconnect, an AXI SmartConnect, and the Processor System Reset, but will not connect the streams. You may need to run this twice.\n",
    "* Manually connect <i>in_stream</i> to <i>M_AXI_MM2S</i>, and <i>out_stream</i> to <i>M_AXI_S2MM</i>\n",
    "* Validate the design to ensure everything has been connected correctly. This will also fix the data widths on the write channel (You can see this if you double click on the DMA again).\n",
    "\n",
    "![Block design](./images_2/bd1.gif)\n",
    "\n",
    "You can now generate the bitstream, or simply use the files provided to move more quickly to the next step. "
   ]
  },
  {
   "cell_type": "markdown",
   "metadata": {},
   "source": [
    "## Jupyter Notebook\n",
    "\n",
    "#### PYNQ overlay and MMIO\n",
    "Start by loading the overlay. If you query the overlay using `aes_overlay?` you can see that we have 2 IPs available this time, as the DMA was added to the design. You can create handles for both the DMA and the AES block, so that they can be accessed easily later on."
   ]
  },
  {
   "cell_type": "code",
   "execution_count": 1,
   "metadata": {},
   "outputs": [
    {
     "data": {
      "application/javascript": [
       "\n",
       "require(['notebook/js/codecell'], function(codecell) {\n",
       "  codecell.CodeCell.options_default.highlight_modes[\n",
       "      'magic_text/x-csrc'] = {'reg':[/^%%microblaze/]};\n",
       "  Jupyter.notebook.events.one('kernel_ready.Kernel', function(){\n",
       "      Jupyter.notebook.get_cells().map(function(cell){\n",
       "          if (cell.cell_type == 'code'){ cell.auto_highlight(); } }) ;\n",
       "  });\n",
       "});\n"
      ]
     },
     "metadata": {},
     "output_type": "display_data"
    }
   ],
   "source": [
    "from pynq import Overlay\n",
    "import pynq.lib.dma\n",
    "\n",
    "aes_overlay = Overlay('./bitstream/aes_stream.bit')\n",
    "aes_ip = aes_overlay.aes_0\n",
    "dma_ip = aes_overlay.axi_dma_0"
   ]
  },
  {
   "cell_type": "markdown",
   "metadata": {},
   "source": [
    "Because we kept the AXILite interface for the key, we need to use MMIO in the same way we did before, by assigning passing the correct address range to the [MMIO class](https://pynq.readthedocs.io/en/v2.1/pynq_libraries/mmio.html). Note the range is different, as we are no longer using this method for the plaintext and ciphertext. "
   ]
  },
  {
   "cell_type": "code",
   "execution_count": 2,
   "metadata": {},
   "outputs": [],
   "source": [
    "from pynq import MMIO\n",
    "\n",
    "aes_address = aes_overlay.ip_dict['aes_0']['phys_addr']\n",
    "axilite_range = 32\n",
    "mmio = MMIO(aes_address, axilite_range)"
   ]
  },
  {
   "cell_type": "markdown",
   "metadata": {},
   "source": [
    "#### Formatting inputs\n",
    "Next, we need to format the key and the input text to transferred to the PL. The key can be written using the same function as we used previously.  "
   ]
  },
  {
   "cell_type": "code",
   "execution_count": 3,
   "metadata": {},
   "outputs": [],
   "source": [
    "from EncryptionAes import key_to_bytes\n",
    "key_in  = \"0x2b7e151628aed2a6abf7158809cf4f3c\"\n",
    "key = key_to_bytes(key_in)"
   ]
  },
  {
   "cell_type": "markdown",
   "metadata": {},
   "source": [
    "The plaintext needs to be handled differently this time, however, because the DMA allows us to process multiple blocks of data. Our main concern is simply to make sure that the data we send can divide into an integer number of 128 blocks. This is resolved by padding the last block with zeros, meaning we can use an arbitrary number of data bits, allowing us to use more varied inputs, like files or outputs from widgets. The latter can be created using the iPython module, as a more interactive way of entering the input. The text input is converted to 32 bit integers using the corresponding Ascii values."
   ]
  },
  {
   "cell_type": "code",
   "execution_count": 4,
   "metadata": {},
   "outputs": [
    {
     "data": {
      "application/vnd.jupyter.widget-view+json": {
       "model_id": "270eab213e1745238292f6e07fe2723c",
       "version_major": 2,
       "version_minor": 0
      },
      "text/plain": [
       "Text(value='')"
      ]
     },
     "metadata": {},
     "output_type": "display_data"
    }
   ],
   "source": [
    "import ipywidgets as widgets\n",
    "from IPython.display import display\n",
    "w = widgets.Text()\n",
    "display(w)"
   ]
  },
  {
   "cell_type": "code",
   "execution_count": 5,
   "metadata": {},
   "outputs": [],
   "source": [
    "from EncryptionAes import format_input\n",
    "input_array = format_input(w.value)"
   ]
  },
  {
   "cell_type": "code",
   "execution_count": 6,
   "metadata": {},
   "outputs": [
    {
     "name": "stdout",
     "output_type": "stream",
     "text": [
      "0x23bac375\n",
      "0xe7468f0b\n",
      "0x345a62d0\n",
      "0x0\n"
     ]
    }
   ],
   "source": [
    "for i in range(len(input_array)):\n",
    "    print(hex(input_array[i]))"
   ]
  },
  {
   "cell_type": "markdown",
   "metadata": {},
   "source": [
    "#### Xlnk Class\n",
    "\n",
    "The [Xlnk class](https://pynq.readthedocs.io/en/v2.4/pynq_libraries/xlnk.html) allows us to create arrays which are contiguous in memory. We can create two contiguous arrays to transfer memory in and out of the DMA as streams. The DMA will handle the inputs so that a full 128 bit block of data is processed by the IP every clock cycle. "
   ]
  },
  {
   "cell_type": "code",
   "execution_count": 7,
   "metadata": {},
   "outputs": [],
   "source": [
    "from pynq import Xlnk\n",
    "import numpy as np\n",
    "\n",
    "xlnk = Xlnk()\n",
    "in_buffer = xlnk.cma_array(shape=(len(input_array),),dtype = np.uint32)\n",
    "out_buffer = xlnk.cma_array(shape=(len(input_array),),dtype = np.uint32)"
   ]
  },
  {
   "cell_type": "markdown",
   "metadata": {},
   "source": [
    "Values in these contiguous arrays are handled in the same way as numpy arrays, allowing us to assign values to the input buffer."
   ]
  },
  {
   "cell_type": "code",
   "execution_count": 8,
   "metadata": {},
   "outputs": [],
   "source": [
    "for i in range(len(input_array)):\n",
    "    in_buffer[i] = input_array[i]"
   ]
  },
  {
   "cell_type": "markdown",
   "metadata": {},
   "source": [
    "#### DMA transfers\n",
    "\n",
    "The PYNQ [DMA class](https://pynq.readthedocs.io/en/v2.4/pynq_libraries/dma.html) contains functions to handle transfers with the AXI DMA IP we used in our block design. This allows us to easily make transfers using high level functions in Python. Note that signals like TLAST are set automatically by the DMA"
   ]
  },
  {
   "cell_type": "code",
   "execution_count": 10,
   "metadata": {},
   "outputs": [],
   "source": [
    "def send_data(key, in_buffer, out_buffer):\n",
    "    mmio.write(0x10, key)\n",
    "    dma_ip.sendchannel.transfer(in_buffer)\n",
    "    dma_ip.recvchannel.transfer(out_buffer)\n",
    "    dma_ip.sendchannel.wait()\n",
    "    dma_ip.recvchannel.wait()"
   ]
  },
  {
   "cell_type": "markdown",
   "metadata": {},
   "source": [
    "We can easily use this function to process the input and key we've formatted, and read back the ciphertext output."
   ]
  },
  {
   "cell_type": "code",
   "execution_count": 11,
   "metadata": {},
   "outputs": [
    {
     "name": "stdout",
     "output_type": "stream",
     "text": [
      "0xc6aa96dd\n",
      "0xb25d1457\n",
      "0x79e700b1\n",
      "0x95b22c7\n",
      "0x8879fa03\n",
      "0xda273b79\n",
      "0x3953e85f\n",
      "0xe5a71e7e\n",
      "0xdcec0931\n",
      "0xa99f8b9\n",
      "0xaa15f2f4\n",
      "0x2b2d9cae\n"
     ]
    }
   ],
   "source": [
    "send_data(key, in_buffer, out_buffer)  \n",
    "for i in range(len(out_buffer)):\n",
    "    print(hex(out_buffer[i]))"
   ]
  }
 ],
 "metadata": {
  "kernelspec": {
   "display_name": "Python 3",
   "language": "python",
   "name": "python3"
  },
  "language_info": {
   "codemirror_mode": {
    "name": "ipython",
    "version": 3
   },
   "file_extension": ".py",
   "mimetype": "text/x-python",
   "name": "python",
   "nbconvert_exporter": "python",
   "pygments_lexer": "ipython3",
   "version": "3.6.5"
  }
 },
 "nbformat": 4,
 "nbformat_minor": 2
}
