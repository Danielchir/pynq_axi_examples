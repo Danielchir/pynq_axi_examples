{
 "cells": [
  {
   "cell_type": "markdown",
   "metadata": {},
   "source": [
    "# Creating a Custom Overlay from a HLS design\n",
    "\n",
    "This blog is the first of 3 tutorials discussing the AXI interfaces, and show how they can be used in hardware designs with PYNQ. The material presented was created using Vivado HLS 2018.3, Vivado 2018.3, and a v2.4 PYNQ image tested on a PYNQ-Z2 board. \n",
    "\n",
    "<!-- download files here: -->\n",
    "\n",
    "If you are only interested in one section of this tutorial, they are quite self contained, so feel free to skip ahead\n",
    "<!-- links don't work in blog yet -->\n",
    "\n",
    "$\\qquad$[High Level Synthesis](#hls)  \n",
    "$\\qquad$[Vivado Block Design](#bd)  \n",
    "$\\qquad$[Jupyter Notebook](#book)\n",
    "\n",
    "\n",
    "\n",
    "### Tutorial outcomes\n",
    "This tutorial does not aim to teach the basics of HLS, Vivado and PYNQ, but rather to tie them together to show the full process of a design from C code to an overlay running on PYNQ. The files created at each major step can be found in <!-- wherever we put the files --> so you can feel free to skip through steps if you feel familiar with the content. \n",
    "If you are just starting with HLS and/or PYNQ, these might be better starting points before this tutorial:\n",
    "* HLS: https://github.com/xupgit/High-Level-Synthesis-Flow-on-Zynq-using-Vivado-HLS (especially labs 1 and 2)\n",
    "* PYNQ and Jupyter: https://github.com/Xilinx/PYNQ_Workshop \n",
    "\n",
    "This tutorial is the first of a series focusing on the different types of [AXI (Advanced eXtensible Interface) protocols](https://en.wikipedia.org/wiki/Advanced_eXtensible_Interface). These protocols are used to transfer data from the PS to the PL, and between IPs in the PL design using a handshake mechanism.\n",
    "\n",
    "* AXI4-Lite: this is a subset of the AXI4 protocol, used for simple memory-mapped communication \n",
    "* AXI Stream: point-to-point interface for high speed streaming of data between IPs <!-- link second tutorial -->\n",
    "* AXI4: The full AXI protocol, supports burst transactions for high-performance memory-mapped communications <!-- link 3rd tutorial -->\n",
    "\n",
    "\n",
    "## The AES Algorithm\n",
    "The design used in this tutorial is an implementation of the Electronic Code Book (ECB) mode of operation of the Advanced Encryption Standard (AES). Knowledge of encryption is not necessary to follow the rest of this tutorial, but if you are unfamiliar with AES and would like to know more, you can refer to the following: \n",
    "* https://en.wikipedia.org/wiki/Advanced_Encryption_Standard\n",
    "* https://www.youtube.com/watch?v=gP4PqVGudtg\n",
    "\n",
    "<img src=\"./images/aes.png\" alt=\"AES Algorithm\" width=\"800\"/>\n",
    "\n",
    "Implementing this algorithm on an FPGA is very beneficial, thanks to the opportunities for parallelism. In each step, updating a value in the matrix does not require knowledge of any other value, which means we can compute all 16 values at the same time. This can reduce the latency of each step from 16+ clock cycles, to under 1 cycle each, if the designer chooses to prioritize the speed of the design, as we have done here. By comparison, a CPU would need to perform each operation in sequence. Despite a higher clock frequency, this results in a much slower output.\n",
    "\n",
    "<!-- performance plot here? -->\n",
    "\n"
   ]
  },
  {
   "cell_type": "markdown",
   "metadata": {},
   "source": [
    "<a name=\"hls\"></a>\n",
    "## High Level Synthesis\n",
    "\n",
    "### Creating a HLS project\n",
    "\n",
    "* Open Vivado HLS and create a new project\n",
    "* Pick a project name and location\n",
    "* Add the source file, and set \"aes\" as the top function name\n",
    "* Add the testbench file\n",
    "* Select the right part: xc7z020clg400-1 <!-- both boards ? -->\n",
    "\n",
    "![Project Creation](./images/hls_prj.gif)\n",
    "\n",
    "<!-- notes on code -->"
   ]
  },
  {
   "cell_type": "markdown",
   "metadata": {},
   "source": [
    "### HLS Optimisations\n",
    "\n",
    "You can view the optimisations we've already applied in the top level function, and in the directives panel (you need to open aes.cpp to view the correct directives). Assuming we are not aiming to be conservative with regards to the area used for this design, we can unroll all loops. This will happen automatically if we pipeline the top level function, using \n",
    "```C \n",
    "#pragma HLS PIPELINE\n",
    "``` \n",
    "<!-- line number-->\n",
    "\n",
    "Because none of the steps in the algorithm require us to know the updated values of neighbouring bytes, all 16 bytes can be operated on at the same time, rather than sequentially like with a CPU. <!-- maybe put this elsewhere --> While arrays are often used in C/C++ for their convenience, they will not be used efficiently in an FPGA implementation unless we partition them. <!-- as seen on lines ... -->\n",
    "\n",
    "Run Synthesis by clicking <!-- button -->. In the Console window, you can see that certain optimisations are being set automatically by the tools.\n",
    "\n",
    "![unrolled loops](./images/unrolls.png)\n",
    "![partitioned arrays](./images/partitions.PNG)\n",
    "\n",
    "You can investigate the effects of these optimisations using the Analysis view, or by creating multiple solutions and comparing the reports (\"Compare Reports\" in the Project tab)."
   ]
  },
  {
   "cell_type": "markdown",
   "metadata": {},
   "source": [
    "### Interfaces\n",
    "\n",
    "In order to export this design, we need to set the interface type of each port. For now, we will use axilite slave interfaces for each of these, and in the next two tutorials, we'll see how the design changes when we choose streams or master interfaces.\n",
    "\n",
    "* In the directive panel (with aes.cpp open), double click on _key_\n",
    "* Using the _Directive_ drop down menu, select _INTERFACE_\n",
    "* In the options, select <i>s_axilite</i> as the mode\n",
    "\n",
    "Repeat these steps for _input_, _output_, and the top level function (aes). Doing this allows you to control when the IP starts, and read the register to determine the state of the IP. In some cases, this can be handled automatically by using the interface type `ap_ctrl_none`.\n",
    "\n",
    "Applying directives in this way will store them in a seperate _diresctives_ file which is specific to each solution, but you can also choose to write these directly into the code. If you select _Source File_ when setting the directives, they will appear in the top level function as\n",
    "\n",
    "```C\n",
    "#pragma HLS INTERFACE s_axilite port=key\n",
    "#pragma HLS INTERFACE s_axilite port=output\n",
    "#pragma HLS INTERFACE s_axilite port=input\n",
    "#pragma HLS INTERFACE s_axilite port=return\n",
    "```\n",
    "\n",
    "Run synthesis again and note the interface summary (below the _Utilisation Estimates_) which shows the interfaces created based on the directives. All interface ports are bundled together into a single AXILite interface, even though the types of the arguments in C are different. In hardware, the same AXILite interface can be used to access the 128 bit integer key and the two 16 byte arrays. The 128 bit key is written to four 32 bit registers starting at offset `0x10`; the input and output arrays can be accessed in a similar way at addresses `0x30` and `0x40`. These offsets can be found in the software driver header file at `solution1 > impl > misc > drivers > aes_v1_0 > src`. You can also see how the 16 bytes of the input and output arrays are arranged into four 32 bit registers. \n",
    "The details of the control/status register are also shown, which tells us we will need to set the value at offset `0x00` to 1 to start the IP."
   ]
  },
  {
   "cell_type": "markdown",
   "metadata": {},
   "source": [
    "<!-- drivers file! -->\n",
    "<!-- COSIM AND EXPORT -->"
   ]
  },
  {
   "cell_type": "markdown",
   "metadata": {},
   "source": [
    "### Notes on Design decisions\n",
    "\n",
    "#### Data types\n",
    "\n",
    "In order to minimise [initiation interval](https://www.xilinx.com/support/documentation/sw_manuals/xilinx2015_2/sdsoc_doc/topics/calling-coding-guidelines/concept_pipelining_loop_unrolling.html), we would need to use 128 bit integers for the text input and output, but the goal of this tutorial is not to make the most optimal implementation.This simple version aims to highlight the differences and subtleties of certain interfaces, and the next tutorials will show methods which are better suited to this design. \n",
    "\n",
    "These different types perform differently because of the way they are translated into hardware by HLS. Arrays are implemented as memory, meaning only one value will be accessed each clock cycle. The difference between them can be clearly seen in the _Schedule Viewer_, in the analysis view: the entire key is read in under a clock cycle, whereas each value in the array of plaintext inputs needs to be accessed individually.\n",
    "\n",
    "![Schedule viewer](./images/inputs.png)\n",
    "\n",
    "<!-- different input/output port vs writing/reading from same -->\n",
    "\n",
    "#### Variations in endianness\n",
    "The notebook will run on Linux, which is a <!-- something --> endian system, but HLS will interpret data as being <!-- the other one --> endian. This means that byte order will be effectively swapped as data is sent to/from the IP. In many applications, this is not an issue so long as reads and writes operate in the same way. In the case of encryption, however, the result will be completely different if the IP tries to process 0x1234 instead of 0x4321. There are a few ways to handle this issue: \n",
    "* reorder the bytes in software directly so they get written to the PL in the right order\n",
    "* swap the byte order when reading in data into the PL\n",
    "* change the inner functions of the algorithm to account for the change in the ordering.\n",
    "\n",
    "We chose the second of these options in this case, as can be seen in the functions <i>read_data</i>, <i>read_key</i>, and <i>write_data<i/>."
   ]
  },
  {
   "cell_type": "markdown",
   "metadata": {},
   "source": [
    "<a name=\"bd\"></a>\n",
    "## Block Design in Vivado\n",
    "\n",
    "### Create a New Vivado Project\n",
    "\n",
    "* Open Vivado and create a new project\n",
    "* Change the project name and location if you wish\n",
    "* Select RTL project, and tick _Do not specify sources at this time_ \n",
    "* Select your board, in this example the PYNQ-Z2\n",
    "\n",
    "<img src=\"./images/vivado_prj.gif\" alt=\"Vivado project\" width=\"700\"/>  \n",
    "\n",
    "* In the Project Manager, click on _Create Block Design_ \n",
    "* Add the _ZYNQ7 Processing System_ by clicking the + icon <!-- (Plus symbol image) -->\n",
    "* Use the Designer Assistance to _Run block automation_ <!-- board presets -->\n",
    "\n",
    "<img src=\"./images/vivado_bd1.gif\" alt=\"Create block design\" width=\"700\"/>  \n",
    "\n",
    "* In the Project Manager, click on _Settings_\n",
    "* Under _IP_ , select _Repository_\n",
    "* Add a directory by clicking the + icon\n",
    "* Find the IP you exported. Vivado will be able to find the IP if you simply select the HLS project folder, or the solution folder (selecting the solution folder is useful if you have exported multiple solutions) \n",
    "* As before, add the Aes IP to the block design\n",
    "* Using the Designer Assistance, _Run connection automation_\n",
    "\n",
    "<!-- show the bd for ref -->\n",
    "\n",
    "* click on validate design to make sure everything is connected properly.<!-- check box -->\n",
    "\n",
    "<img src=\"./images/vivado_bd2.gif\" alt=\"Adding the custom IP\" width=\"700\"/>  \n",
    "\n",
    "* In the sources panel, right click on the design name (design_1 if you kept the default name) and select _Create HDL wrapper_\n",
    "* In the dialog box, select _Let Vivado manage wrapper ad auto-update_\n",
    "* In the flow navigator, click _Generate the bitstream_ and accept all the defaults\n",
    "\n",
    "<img src=\"./images/vivado_bd3.gif\" alt=\"Generating the bitstream\" width=\"700\"/>  "
   ]
  },
  {
   "cell_type": "markdown",
   "metadata": {},
   "source": [
    "Generating the bitstream can take a while, so if you'd like to move on to the next step, all the files you need are in the bitstream folder with the other design files. \n",
    "\n",
    "If you choose to use your own bitstream, the files that will need to be uploaded to the board can be found as follows: \n",
    "* .bit: project_1 > project_1.runs > impl_1 > design_1_wrapper.bit\n",
    "* .hwh: project_1 > project_1.srcs > sources_1 > bd > design_1 > hw_handoff > design_1.hwh\n",
    "\n",
    "The file names need to be the same for both files, as the Overlay class will automatically search for them. <!-- unclear -->"
   ]
  },
  {
   "cell_type": "markdown",
   "metadata": {},
   "source": [
    "<a name=\"book\"></a>\n",
    "## Jupyter Notebook\n",
    "\n",
    "### Uploading Files \n",
    "\n",
    "The Python for the hardware design will be developed in Jupyter notebook. The PYNQ image is based on Ubuntu. The files need to be copied to the board in an area in the file system accessible from Jupyter.\n",
    "\n",
    "The files can be copied to the board in a number of different ways. As the board has a Ubuntu based OS, we could use ftp, ssh, etc. Files can also be uploaded directly through the Jupyter interfaces. The OS is also running Samba by default. See the PYNQ documentation on how to transfer files using Samba\n",
    "\n",
    "Once you connect to the board with Samba, you should be able to see the ~/xilinx home area. The jupyter_notebooks folder is visible from Python, so any files you want to use from Jupyter should be copied here.\n",
    "\n",
    "Create a new folder pynq_tutorial in the ./xilinx/jupyter_notebooks folder, and copy the .bit, and .hwh from the previous tutorial to the folder"
   ]
  },
  {
   "cell_type": "markdown",
   "metadata": {},
   "source": [
    "### Instantiate the Overlay\n",
    "\n",
    "The first step is to instantiate the [Overlay](https://pynq.readthedocs.io/en/v2.4/pynq_package/pynq.overlay.html?_ga=2.151733241.1165509460.1566200736-1730847164.1559030233) we've created. The Overlay class will read the .hwh or .tcl file coresponding to the .bit file provided."
   ]
  },
  {
   "cell_type": "code",
   "execution_count": 1,
   "metadata": {},
   "outputs": [
    {
     "data": {
      "application/javascript": [
       "\n",
       "require(['notebook/js/codecell'], function(codecell) {\n",
       "  codecell.CodeCell.options_default.highlight_modes[\n",
       "      'magic_text/x-csrc'] = {'reg':[/^%%microblaze/]};\n",
       "  Jupyter.notebook.events.one('kernel_ready.Kernel', function(){\n",
       "      Jupyter.notebook.get_cells().map(function(cell){\n",
       "          if (cell.cell_type == 'code'){ cell.auto_highlight(); } }) ;\n",
       "  });\n",
       "});\n"
      ]
     },
     "metadata": {},
     "output_type": "display_data"
    }
   ],
   "source": [
    "from pynq import Overlay\n",
    "aes_overlay = Overlay(\"./bitstream/aes.bit\") "
   ]
  },
  {
   "cell_type": "markdown",
   "metadata": {},
   "source": [
    "<!-- name? -->\n",
    "You can check the available IP in the design, or open the IP dictionary to obtain more details about the properties of the IP. Here it is important to note the address offsets of the key, and the input and output ports, (0x10, 0x30, and 0x40 respectively)\n",
    "\n",
    "<img src=\"./images/ipdict.png\" alt=\"IP dictionary section\" style=\"border:1px solid blue\">"
   ]
  },
  {
   "cell_type": "code",
   "execution_count": 2,
   "metadata": {},
   "outputs": [
    {
     "data": {
      "text/plain": [
       "{'aes_0': {'addr_range': 65536,\n",
       "  'driver': pynq.overlay.DefaultIP,\n",
       "  'fullpath': 'aes_0',\n",
       "  'gpio': {},\n",
       "  'interrupts': {},\n",
       "  'mem_id': 's_axi_AXILiteS',\n",
       "  'parameters': {'C_S_AXI_AXILITES_ADDR_WIDTH': '7',\n",
       "   'C_S_AXI_AXILITES_BASEADDR': '0x43C00000',\n",
       "   'C_S_AXI_AXILITES_DATA_WIDTH': '32',\n",
       "   'C_S_AXI_AXILITES_HIGHADDR': '0x43C0FFFF',\n",
       "   'Component_Name': 'design_1_aes_0_0',\n",
       "   'EDK_IPTYPE': 'PERIPHERAL',\n",
       "   'II': '16',\n",
       "   'clk_period': '10',\n",
       "   'combinational': '0',\n",
       "   'latency': '63',\n",
       "   'machine': '64'},\n",
       "  'phys_addr': 1136656384,\n",
       "  'registers': {'CTRL': {'access': 'read-write',\n",
       "    'address_offset': 0,\n",
       "    'description': 'Control signals',\n",
       "    'fields': {'AP_DONE': {'access': 'read-only',\n",
       "      'bit_offset': 1,\n",
       "      'bit_width': 1,\n",
       "      'description': 'Control signals'},\n",
       "     'AP_IDLE': {'access': 'read-only',\n",
       "      'bit_offset': 2,\n",
       "      'bit_width': 1,\n",
       "      'description': 'Control signals'},\n",
       "     'AP_READY': {'access': 'read-only',\n",
       "      'bit_offset': 3,\n",
       "      'bit_width': 1,\n",
       "      'description': 'Control signals'},\n",
       "     'AP_START': {'access': 'read-write',\n",
       "      'bit_offset': 0,\n",
       "      'bit_width': 1,\n",
       "      'description': 'Control signals'},\n",
       "     'AUTO_RESTART': {'access': 'read-write',\n",
       "      'bit_offset': 7,\n",
       "      'bit_width': 1,\n",
       "      'description': 'Control signals'},\n",
       "     'RESERVED_1': {'access': 'read-only',\n",
       "      'bit_offset': 4,\n",
       "      'bit_width': 3,\n",
       "      'description': 'Control signals'},\n",
       "     'RESERVED_2': {'access': 'read-only',\n",
       "      'bit_offset': 8,\n",
       "      'bit_width': 24,\n",
       "      'description': 'Control signals'}},\n",
       "    'size': 32},\n",
       "   'GIER': {'access': 'read-write',\n",
       "    'address_offset': 4,\n",
       "    'description': 'Global Interrupt Enable Register',\n",
       "    'fields': {'Enable': {'access': 'read-write',\n",
       "      'bit_offset': 0,\n",
       "      'bit_width': 1,\n",
       "      'description': 'Global Interrupt Enable Register'},\n",
       "     'RESERVED': {'access': 'read-only',\n",
       "      'bit_offset': 1,\n",
       "      'bit_width': 31,\n",
       "      'description': 'Global Interrupt Enable Register'}},\n",
       "    'size': 32},\n",
       "   'IP_IER': {'access': 'read-write',\n",
       "    'address_offset': 8,\n",
       "    'description': 'IP Interrupt Enable Register',\n",
       "    'fields': {'CHAN0_INT_EN': {'access': 'read-write',\n",
       "      'bit_offset': 0,\n",
       "      'bit_width': 1,\n",
       "      'description': 'IP Interrupt Enable Register'},\n",
       "     'CHAN1_INT_EN': {'access': 'read-write',\n",
       "      'bit_offset': 1,\n",
       "      'bit_width': 1,\n",
       "      'description': 'IP Interrupt Enable Register'},\n",
       "     'RESERVED': {'access': 'read-only',\n",
       "      'bit_offset': 2,\n",
       "      'bit_width': 30,\n",
       "      'description': 'IP Interrupt Enable Register'}},\n",
       "    'size': 32},\n",
       "   'IP_ISR': {'access': 'read-write',\n",
       "    'address_offset': 12,\n",
       "    'description': 'IP Interrupt Status Register',\n",
       "    'fields': {'CHAN0_INT_ST': {'access': 'read-only',\n",
       "      'bit_offset': 0,\n",
       "      'bit_width': 1,\n",
       "      'description': 'IP Interrupt Status Register'},\n",
       "     'CHAN1_INT_ST': {'access': 'read-only',\n",
       "      'bit_offset': 1,\n",
       "      'bit_width': 1,\n",
       "      'description': 'IP Interrupt Status Register'},\n",
       "     'RESERVED': {'access': 'read-only',\n",
       "      'bit_offset': 2,\n",
       "      'bit_width': 30,\n",
       "      'description': 'IP Interrupt Status Register'}},\n",
       "    'size': 32},\n",
       "   'Memory_input_r': {'access': 'read-write',\n",
       "    'address_offset': 48,\n",
       "    'description': 'Memory input_r',\n",
       "    'fields': {},\n",
       "    'size': 16},\n",
       "   'Memory_output_r': {'access': 'read-write',\n",
       "    'address_offset': 64,\n",
       "    'description': 'Memory output_r',\n",
       "    'fields': {},\n",
       "    'size': 16},\n",
       "   'key_V_1': {'access': 'write-only',\n",
       "    'address_offset': 16,\n",
       "    'description': 'Data signal of key_V',\n",
       "    'fields': {'key_V': {'access': 'write-only',\n",
       "      'bit_offset': 0,\n",
       "      'bit_width': 32,\n",
       "      'description': 'Data signal of key_V'}},\n",
       "    'size': 32},\n",
       "   'key_V_2': {'access': 'write-only',\n",
       "    'address_offset': 20,\n",
       "    'description': 'Data signal of key_V',\n",
       "    'fields': {'key_V': {'access': 'write-only',\n",
       "      'bit_offset': 0,\n",
       "      'bit_width': 32,\n",
       "      'description': 'Data signal of key_V'}},\n",
       "    'size': 32},\n",
       "   'key_V_3': {'access': 'write-only',\n",
       "    'address_offset': 24,\n",
       "    'description': 'Data signal of key_V',\n",
       "    'fields': {'key_V': {'access': 'write-only',\n",
       "      'bit_offset': 0,\n",
       "      'bit_width': 32,\n",
       "      'description': 'Data signal of key_V'}},\n",
       "    'size': 32},\n",
       "   'key_V_4': {'access': 'write-only',\n",
       "    'address_offset': 28,\n",
       "    'description': 'Data signal of key_V',\n",
       "    'fields': {'key_V': {'access': 'write-only',\n",
       "      'bit_offset': 0,\n",
       "      'bit_width': 32,\n",
       "      'description': 'Data signal of key_V'}},\n",
       "    'size': 32}},\n",
       "  'state': None,\n",
       "  'type': 'xilinx.com:hls:aes:1.0'}}"
      ]
     },
     "execution_count": 2,
     "metadata": {},
     "output_type": "execute_result"
    }
   ],
   "source": [
    "aes_overlay?\n",
    "aes_overlay.ip_dict "
   ]
  },
  {
   "cell_type": "markdown",
   "metadata": {},
   "source": [
    "### Create an MMIO instance\n",
    "\n",
    "Because we chose axilite slave interfaces in HLS, the address space of the AES IP is mapped ino the Zynq memory map. We can use the PYNQ [Memory-mapped I/O class](https://pynq.readthedocs.io/en/v2.4/pynq_libraries/mmio.html) to read and write registers in the system memory map. From the IP dictionary, we know that the address offsets we need to access range from `0x00` to `0x4f`, which is the range we will pass to the MMIO class, along with the base address for the IP."
   ]
  },
  {
   "cell_type": "code",
   "execution_count": 3,
   "metadata": {},
   "outputs": [],
   "source": [
    "from pynq import MMIO\n",
    "aes_address = aes_overlay.ip_dict['aes_0']['phys_addr']\n",
    "addr_range = 0x50\n",
    "mmio = MMIO(aes_address, addr_range)"
   ]
  },
  {
   "cell_type": "markdown",
   "metadata": {},
   "source": [
    "### Writing to the IP\n",
    "\n",
    "Each address can hold 32bits of data, so the simplest way to write the 128 bit key is"
   ]
  },
  {
   "cell_type": "code",
   "execution_count": 4,
   "metadata": {},
   "outputs": [],
   "source": [
    "mmio.write(0x10, 0x2b7e1516)  \n",
    "mmio.write(0x14, 0x28aed2a6)  \n",
    "mmio.write(0x18, 0xabf71588) \n",
    "mmio.write(0x1c, 0x09cf4f3c)  "
   ]
  },
  {
   "cell_type": "markdown",
   "metadata": {},
   "source": [
    "We can write the plaintext in the same way, with address offsets `0x30`, `0x34`, `0x38`, and `0x3c`. Similarly, we use the `read` function to read back the cipher text:"
   ]
  },
  {
   "cell_type": "code",
   "execution_count": 5,
   "metadata": {},
   "outputs": [],
   "source": [
    "mmio.write(0x30, 0x6bc1bee2)  \n",
    "mmio.write(0x34, 0x2e409f96)  \n",
    "mmio.write(0x38, 0xe93d7e11) \n",
    "mmio.write(0x3c, 0x7393172a)  "
   ]
  },
  {
   "cell_type": "markdown",
   "metadata": {},
   "source": [
    "Because we chose to give the top level function the interface type `s_axilite`, we need to manually start the IP, by sending a 1 to the control register. You can see the details of the control signals in the drivers file, or in the `ip_dict`. "
   ]
  },
  {
   "cell_type": "code",
   "execution_count": 6,
   "metadata": {},
   "outputs": [],
   "source": [
    "mmio.write(0x00, 0x1)"
   ]
  },
  {
   "cell_type": "code",
   "execution_count": 7,
   "metadata": {},
   "outputs": [
    {
     "name": "stdout",
     "output_type": "stream",
     "text": [
      "0x3ad77bb4\n",
      "0xd7a3660\n",
      "0xa89ecaf3\n",
      "0x2466ef97\n"
     ]
    }
   ],
   "source": [
    "print(hex(mmio.read(0x40)))      \n",
    "print(hex(mmio.read(0x44)))\n",
    "print(hex(mmio.read(0x48)))\n",
    "print(hex(mmio.read(0x4c)))"
   ]
  },
  {
   "cell_type": "markdown",
   "metadata": {},
   "source": [
    "### Creating a driver\n",
    "\n",
    "Writing to each address individually is not an efficient way of using this IP in Python; instead, we can create our own driver, to replace the Default driver. This will allow us to create a function to handle the writes. Another way to make this more user friendly is to use the fact that we can write to contiguous addresses at the same time, if we format the data as an array of bytes, rather than separate integers. The file EncryptionAes.py contains a function which will handle the formatting of an input into bytes which you can simply import into this notebook, as long as the file is in the same folder.\n",
    "\n",
    "The driver we create here has two functions: `__init__`is the constructor for our EncryptDriver class, and `encrypt` transfers data to the IP, and returns a list containing the output."
   ]
  },
  {
   "cell_type": "code",
   "execution_count": 8,
   "metadata": {},
   "outputs": [],
   "source": [
    "from pynq import DefaultIP\n",
    "\n",
    "class EncryptDriver(DefaultIP):\n",
    "    def __init__(self, description):\n",
    "        super().__init__(description=description)\n",
    "\n",
    "    bindto = ['xilinx.com:hls:aes:1.0'] \n",
    "\n",
    "    def encrypt(self, key, text):\n",
    "        self.write(0x10, key)\n",
    "        self.write(0x30, text)\n",
    "        self.write(0x00, 0x1)\n",
    "        return [self.read(0x40),self.read(0x44),self.read(0x48),self.read(0x4c)]"
   ]
  },
  {
   "cell_type": "code",
   "execution_count": 9,
   "metadata": {},
   "outputs": [],
   "source": [
    "aes_overlay = Overlay(\"./bitstream/aes.bit\") "
   ]
  },
  {
   "cell_type": "markdown",
   "metadata": {},
   "source": [
    "In order to use the new driver, we simply need to reload the overlay. If we query the overlay, we can see that the new driver has been bound to the IP.\n",
    "\n",
    "![Driver](./images/driver.png)\n",
    "\n",
    "Because we are only writing to one address for the key, and one address for the plaintext, we now need to format these so that they are written as bytes. This will be done with the function `block_to_bytes`, which takes a single block of data (128 bits) as a string, and returns bytes. You can view the source code within the notebook using `block_to_bytes??` (or simply open the file). "
   ]
  },
  {
   "cell_type": "code",
   "execution_count": 10,
   "metadata": {},
   "outputs": [],
   "source": [
    "from EncryptionAes import block_to_bytes\n",
    "\n",
    "key_in = \"0x2b7e151628aed2a6abf7158809cf4f3c\"\n",
    "key_bytes = block_to_bytes(key_in)\n",
    "\n",
    "plaintext = \"0x6bc1bee22e409f96e93d7e117393172a\"\n",
    "text_bytes =  block_to_bytes(plaintext)"
   ]
  },
  {
   "cell_type": "markdown",
   "metadata": {},
   "source": [
    "This data can now be written to the IP using the driver we created."
   ]
  },
  {
   "cell_type": "code",
   "execution_count": 11,
   "metadata": {},
   "outputs": [
    {
     "name": "stdout",
     "output_type": "stream",
     "text": [
      "0x3ad77bb4\n",
      "0xd7a3660\n",
      "0xa89ecaf3\n",
      "0x2466ef97\n"
     ]
    }
   ],
   "source": [
    "ciphertext = aes_overlay.aes_0.encrypt(key_bytes,text_bytes)\n",
    "for i in range(len(ciphertext)):\n",
    "    print(hex(ciphertext[i]))"
   ]
  }
 ],
 "metadata": {
  "kernelspec": {
   "display_name": "Python 3",
   "language": "python",
   "name": "python3"
  },
  "language_info": {
   "codemirror_mode": {
    "name": "ipython",
    "version": 3
   },
   "file_extension": ".py",
   "mimetype": "text/x-python",
   "name": "python",
   "nbconvert_exporter": "python",
   "pygments_lexer": "ipython3",
   "version": "3.6.5"
  }
 },
 "nbformat": 4,
 "nbformat_minor": 2
}
